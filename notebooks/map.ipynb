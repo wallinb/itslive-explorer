{
 "cells": [
  {
   "cell_type": "code",
   "execution_count": 4,
   "id": "confident-combination",
   "metadata": {},
   "outputs": [
    {
     "data": {
      "application/vnd.jupyter.widget-view+json": {
       "model_id": "9d01197d1c714fbf8d8b578f4c66b5c1",
       "version_major": 2,
       "version_minor": 0
      },
      "text/plain": [
       "Map(center=[-90, 0], controls=(ZoomControl(options=['position', 'zoom_in_text', 'zoom_in_title', 'zoom_out_tex…"
      ]
     },
     "metadata": {},
     "output_type": "display_data"
    }
   ],
   "source": [
    "\n",
    "# So first take a look at http://glaciertools.net.s3.amazonaws.com/its-live-tool-maps/velOnlyItslive_3031_raster/openlayers.html\n",
    "# Now if we want to use it in ipyleaflet ->\n",
    "\n",
    "from ipyleaflet import (\n",
    "    Map,\n",
    "    basemaps,\n",
    "    basemap_to_tiles,\n",
    "    TileLayer,\n",
    "    GeoJSON,\n",
    "    DrawControl,\n",
    "    LayersControl,\n",
    "    projections\n",
    ")\n",
    "\n",
    "lc = LayersControl(position='topright')\n",
    "\n",
    "# So we get what the map coords when we draw a polygon etc.\n",
    "def handle_draw(target, action, geo_json):\n",
    "    print(action, geo_json)\n",
    "\n",
    "dc = DrawControl(marker={'shapeOptions': {'color': '#0000FF'}})\n",
    "dc.on_draw(handle_draw)\n",
    "\n",
    "\n",
    "# This is the definition that works with GIBS but it's applied to the entire map, in OpenLayers\n",
    "# we can define them individually for each layer. I played with this to match what GDal2Tiles generated and still didn't get\n",
    "# the right tile requests.\n",
    "my_projection = {\n",
    "    'name': 'EPSG:3031',\n",
    "    'custom': True, #This is important, it tells ipyleaflet that this projection is not on the predefined ones.\n",
    "    'proj4def': '+proj=stere +lat_0=-90 +lat_ts=-71 +lon_0=0 +k=1 +x_0=0 +y_0=0 +datum=WGS84 +units=m +no_defs',\n",
    "    'origin': [-4194304, 4194304],\n",
    "    'bounds': [\n",
    "        [-4194304, -4194304],\n",
    "        [4194304, 4194304]\n",
    "    ],\n",
    "    'resolutions': [\n",
    "        16384.0,\n",
    "        8192.0,\n",
    "        4096.0,\n",
    "        2048.0,\n",
    "        1024.0,\n",
    "        512.0,\n",
    "        256.0\n",
    "    ]\n",
    "}\n",
    "\n",
    "velocities_url = (\n",
    "   'http://personal-temporary-share.s3-website-us-west-1.amazonaws.com/itslive_ant_epsg3031_tiles/{z}/{y}/{x}.png' \n",
    ")\n",
    "\n",
    "# https://github.com/jupyter-widgets/ipyleaflet/blob/d9d09a74915531fd1845fa95d89a9419c2febfd2/ipyleaflet/leaflet.py#L521\n",
    "tms = TileLayer(\n",
    "    url=velocities_url,\n",
    "    opacity=0.8,\n",
    "    tile_size=512,\n",
    "    tms=False,\n",
    "    min_zoom=1,\n",
    "    max_zoom=5,\n",
    "    attribution=' geospatial'\n",
    ")\n",
    "\n",
    "antarctic_map = Map(center=(-90, 0),\n",
    "                    zoom=1,\n",
    "                    layers=(basemap_to_tiles(basemaps.NASAGIBS.BlueMarble3031),tms),\n",
    "                    crs=my_projection)\n",
    "\n",
    "\n",
    "antarctic_map.add_control(dc)\n",
    "antarctic_map.add_control(lc)\n",
    "\n",
    "# sometimes Firefox fails to handle the mouse in the map so you have to use the arrow keys to move around.\n",
    "\n",
    "antarctic_map"
   ]
  },
  {
   "cell_type": "markdown",
   "id": "european-forty",
   "metadata": {},
   "source": [
    "\n",
    "At some point I also considered https://github.com/jupyter-widgets/ipyleaflet/blob/f47ace2a2a3c5b27ca1c0079d8e07bc9ab22e601/examples/CustomTileServer.ipynb\n",
    "\n",
    "To correct the tile request on the fly. But didn't get too far either.\n"
   ]
  }
 ],
 "metadata": {
  "kernelspec": {
   "display_name": "Python 3",
   "language": "python",
   "name": "python3"
  },
  "language_info": {
   "codemirror_mode": {
    "name": "ipython",
    "version": 3
   },
   "file_extension": ".py",
   "mimetype": "text/x-python",
   "name": "python",
   "nbconvert_exporter": "python",
   "pygments_lexer": "ipython3",
   "version": "3.9.2"
  }
 },
 "nbformat": 4,
 "nbformat_minor": 5
}
